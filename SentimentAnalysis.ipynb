{
 "cells": [
  {
   "cell_type": "code",
   "execution_count": 67,
   "id": "6840a778-9a9a-4a48-9e94-7ae8413a07e4",
   "metadata": {},
   "outputs": [
    {
     "name": "stderr",
     "output_type": "stream",
     "text": [
      "[nltk_data] Downloading package punkt to\n",
      "[nltk_data]     C:\\Users\\thesa\\AppData\\Roaming\\nltk_data...\n",
      "[nltk_data]   Package punkt is already up-to-date!\n",
      "[nltk_data] Downloading package stopwords to\n",
      "[nltk_data]     C:\\Users\\thesa\\AppData\\Roaming\\nltk_data...\n",
      "[nltk_data]   Package stopwords is already up-to-date!\n"
     ]
    }
   ],
   "source": [
    "import pandas as pd\n",
    "import numpy as np\n",
    "import re\n",
    "import string\n",
    "import nltk\n",
    "from nltk.stem import SnowballStemmer\n",
    "from nltk.tokenize import word_tokenize\n",
    "nltk.download('punkt')\n",
    "from nltk.corpus import stopwords\n",
    "nltk.download('stopwords')\n",
    "from sklearn.feature_extraction.text import CountVectorizer\n",
    "from sklearn.linear_model import LogisticRegression"
   ]
  },
  {
   "cell_type": "code",
   "execution_count": 28,
   "id": "c2f0ad33-bf66-417f-88fc-706dc88f3548",
   "metadata": {},
   "outputs": [],
   "source": [
    "def remove_punctuation ( text ):\n",
    "    return re.sub('[%s]' % re.escape(string.punctuation), ' ', text)\n",
    "\n",
    "def tokenization(text):\n",
    "    text = remove_punctuation(text)\n",
    "    stemmer = SnowballStemmer('english')\n",
    "\n",
    "    stopw = stopwords.words('english')\n",
    "    stopw.remove('no')\n",
    "\n",
    "    text_token = word_tokenize(text)\n",
    "    for word in text_token:\n",
    "        if word in stopw:\n",
    "            text_token.remove(word)\n",
    "\n",
    "    stemmed_text = \"\"\n",
    "    for word in text_token:\n",
    "        stemmed_text += \" \" + stemmer.stem(word)\n",
    "    #stemmed_text = [stemmer.stem(word) for word in text_token]\n",
    "\n",
    "    return stemmed_text"
   ]
  },
  {
   "cell_type": "code",
   "execution_count": 48,
   "id": "d86b0d51-9fc1-464f-ba02-86d4a28ca212",
   "metadata": {},
   "outputs": [
    {
     "name": "stdout",
     "output_type": "stream",
     "text": [
      "      labels                                            reviews\n",
      "0          1   stune even non gamer this sound track beauti ...\n",
      "1          1   the best soundtrack ever anyth i read lot rev...\n",
      "2          1   amaz this soundtrack favorit music time hand ...\n",
      "3          1   absolut masterpiec i quit sure actual take ti...\n",
      "4          0   buyer bewar this self publish book if want kn...\n",
      "...      ...                                                ...\n",
      "49995      0   not total happi one the cd arriv damag crack ...\n",
      "49996      0   1 everi 4 defect i normal write review item i...\n",
      "49997      0   poor pix qualiti well sell featur 10x optic z...\n",
      "49998      0   onli 2 year last toy i bought camera panason ...\n",
      "49999      0   take pictur indoor skip this camera i had cam...\n",
      "\n",
      "[50000 rows x 2 columns]\n",
      "Label 0: 25000\n",
      "Label 1: 25000\n"
     ]
    }
   ],
   "source": [
    "columns = [\"labels\", \"reviews\"]\n",
    "data = []\n",
    "\n",
    "def line_processing(line):\n",
    "    line = line.replace('\\n','')\n",
    "    line = line.strip()\n",
    "    parts = linea.split(':')\n",
    "\n",
    "    if len(parts) != 2 or parts[1]=='\\n':\n",
    "        return None\n",
    "\n",
    "    space = parts[0].find(' ')\n",
    "\n",
    "    parts[1] = parts[0][space+1:]  + parts[1]\n",
    "    parts[0] = parts[0].replace(parts[0][space:], '')\n",
    "    parts[0] = parts[0].replace('__label__1', '0')\n",
    "    parts[0] = parts[0].replace('__label__2', '1')\n",
    "    parts[1] = tokenization(parts[1])\n",
    "    return parts\n",
    "\n",
    "pos_count = 0\n",
    "neg_count = 0\n",
    "ruta_txt = \"train.ft.txt\"\n",
    "with open(ruta_txt, 'r', encoding='utf-8') as archivo:\n",
    "    for linea in archivo:\n",
    "        resultado = line_processing(linea)\n",
    "        if resultado is not None:\n",
    "            if resultado[0] == '0' and neg_count < 25000:\n",
    "                neg_count += 1\n",
    "                data.append(resultado)\n",
    "            if resultado[0] == '1' and pos_count < 25000:\n",
    "                pos_count += 1\n",
    "                data.append(resultado)\n",
    "\n",
    "            if pos_count >= 25000 and neg_count >= 25000:\n",
    "                break\n",
    "\n",
    "\n",
    "df = pd.DataFrame(data, columns=columns)\n",
    "print(df)\n",
    "print('Label 0:', (df['labels'] == '0').sum())\n",
    "print('Label 1:', (df['labels'] == '1').sum())"
   ]
  },
  {
   "cell_type": "code",
   "execution_count": 55,
   "id": "94e0a42b-d125-495a-ab11-57aea06eb4c3",
   "metadata": {},
   "outputs": [],
   "source": [
    "def bag_of_words(textos):\n",
    "    vectorizer = CountVectorizer()\n",
    "    actual = []\n",
    "    for i in range(len(textos)):\n",
    "        actual.append(textos[i])\n",
    "\n",
    "    X = vectorizer.fit_transform(actual)\n",
    "    diccionario = vectorizer.get_feature_names_out()\n",
    "    bow = X.toarray()\n",
    "    return diccionario, bow"
   ]
  },
  {
   "cell_type": "code",
   "execution_count": 57,
   "id": "f7fc395b-609a-4ec0-bf86-aa6a8633360d",
   "metadata": {},
   "outputs": [],
   "source": [
    "diccionario, X = bag_of_words(df['reviews'])"
   ]
  },
  {
   "cell_type": "code",
   "execution_count": null,
   "id": "54072450-104f-4936-aaf6-80c9763d3cb7",
   "metadata": {},
   "outputs": [
    {
     "name": "stderr",
     "output_type": "stream",
     "text": [
      "\n",
      "KeyboardInterrupt\n",
      "\n"
     ]
    }
   ],
   "source": [
    "logisticRegr = LogisticRegression()\n",
    "logisticRegr.fit(X, df['labels'])\n",
    "\n",
    "pred = logisticRegr.predict(X)\n",
    "print(\"la precision de la regresion logistica es de: \" + str(accuracy_score(pred, df['labels'])))\n",
    "cm = confusion_matrix(df['labels'], pred, labels=logisticRegr.classes_)\n",
    "disp = ConfusionMatrixDisplay(confusion_matrix=cm, display_labels=logisticRegr.classes_)\n",
    "disp.plot()\n",
    "plt.show()"
   ]
  }
 ],
 "metadata": {
  "kernelspec": {
   "display_name": "Python 3 (ipykernel)",
   "language": "python",
   "name": "python3"
  },
  "language_info": {
   "codemirror_mode": {
    "name": "ipython",
    "version": 3
   },
   "file_extension": ".py",
   "mimetype": "text/x-python",
   "name": "python",
   "nbconvert_exporter": "python",
   "pygments_lexer": "ipython3",
   "version": "3.11.8"
  }
 },
 "nbformat": 4,
 "nbformat_minor": 5
}
